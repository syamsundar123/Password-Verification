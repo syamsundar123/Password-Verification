from tkinter import *
from tkinter import messagebox
from PIL import ImageTk, Image
import random
#making Window
window = Tk()
window.title("Ready to Hang!! If you didn't find the word in 4 chances")
#Window background
window.config(bg="lightsalmon")
#Window geometry
width = window.winfo_screenwidth()
height = window.winfo_screenheight()
window.geometry(f'{width}x{height}')
chances=4;
#Image description
image_paths=['hang.jpg','img4.png','img3.png','img2.png','img1.jpg']
img = Image.open(image_paths[chances])
img = img.resize((300, 300), Image.ANTIALIAS)
img= ImageTk.PhotoImage(img)
panel = Label(window, image = img)                                                                                                                         
panel.place(relx="0.75",rely="0.15")
answer_arr=['INVERT','ESCAPE','ABROAD','ENOUGH']
answer=random.choice(answer_arr)
#Logic for verifying word entered by player
def clicked(alphabet):
    global chances
    if answer=='INVERT':
        Label(window,text="Hint:",bg="lightsalmon",font=('Helvetica','21','bold')).place(relx=0.6,rely=0.1)
        Label(window,text="Reverse",bg="lightsalmon",font=('Helvetica','20')).place(relx=0.65,rely=0.1)
        if alphabet in answer: #Its checks whether the alphabet is there in the answer
            if alphabet=="I":
                btn01["text"] = alphabet;
            elif alphabet=="N":
                btn02["text"] = alphabet;
            elif alphabet=="V":
                btn03["text"] = alphabet;
            elif alphabet=="E":
                btn04["text"] = alphabet;
            elif alphabet=="R":
                btn05["text"] = alphabet;
            elif alphabet=="T":
                btn06["text"] = alphabet;
        else:
            chances = chances - 1;
            txt="Chances remaining: "+str(chances);
            label1.configure(text=txt)
            image = Image.open(image_paths[chances])
            image = image.resize((300, 300), Image.ANTIALIAS)
            imgnew = ImageTk.PhotoImage(image)
            panel.configure(image=imgnew)
            panel.image = imgnew
            
            if chances<=0:
                messagebox.showinfo("Loose to guess","Hanged!!")
                window.destroy()
                
            
        if btn01["text"]=="I" and btn02["text"]=="N" and btn03["text"]=="V" and btn04["text"]=="E" and btn05["text"]=="R" and btn06["text"]=="T":
            messagebox.showinfo("congratulations", "Great,You Won the Game ..!")
            window.destroy()
        print(chances)
    elif answer=='ESCAPE':
        Label(window,text="Hint:",bg="lightsalmon",font=('Helvetica','21','bold')).place(relx=0.6,rely=0.1)
        Label(window,text="Breaking free from Control.",bg="lightsalmon",font=('Helvetica','20')).place(relx=0.65,rely=0.1)
        if alphabet in answer:
            if alphabet=="E":
                btn01["text"] = alphabet
                btn06["text"] = alphabet;
            elif alphabet=="S":
                btn02["text"] = alphabet;
            elif alphabet=="C":
                btn03["text"] = alphabet;
            elif alphabet=="A":
                btn04["text"] = alphabet;
            elif alphabet=="P":
                btn05["text"] = alphabet;
            
        else:
            chances = chances - 1;
            txt="Chances remaining: "+str(chances);
            label1.configure(text=txt)
            image = Image.open(image_paths[chances])
            image = image.resize((300, 300), Image.ANTIALIAS)
            imgnew = ImageTk.PhotoImage(image)
            panel.configure(image=imgnew)
            panel.image = imgnew
            
            if chances<=0:
                messagebox.showinfo("Loose to guess","Hanged!!")
                window.destroy()
            if btn01["text"]=="E" and btn02["text"]=="S" and btn03["text"]=="C" and btn04["text"]=="A" and btn05["text"]=="P" and btn06["text"]=="E":
                messagebox.showinfo("congratulations", "Great,You Won the Game ..!")
                window.destroy()
            print(chances)
        
    elif answer=="ABROAD":
        Label(window,text="Hint:",bg="lightsalmon",font=('Helvetica','21','bold')).place(relx=0.6,rely=0.1)
        Label(window,text="Other Country",bg="lightsalmon",font=('Helvetica','20')).place(relx=0.65,rely=0.1)
        if alphabet in answer:
            if alphabet=="A":
                btn01["text"] = alphabet
                btn05["text"] = alphabet;
            elif alphabet=="B":
                btn02["text"] = alphabet;
            elif alphabet=="R":
                btn03["text"] = alphabet;
            elif alphabet=="O":
                btn04["text"] = alphabet;
            elif alphabet=="D":
                btn06["text"] = alphabet;
       
        else:
            chances = chances - 1;
            txt="Chances remaining: "+str(chances);
            label1.configure(text=txt)
            image = Image.open(image_paths[chances])
            image = image.resize((300, 300), Image.ANTIALIAS)
            imgnew = ImageTk.PhotoImage(image)
            panel.configure(image=imgnew)
            panel.image = imgnew
            if chances<=0:
                messagebox.showinfo("Loose to guess","Hanged!!")
                window.destroy()
            
            if btn01["text"]=="A" and btn02["text"]=="B" and btn03["text"]=="R" and btn04["text"]=="O" and btn05["text"]=="A" and btn06["text"]=="D":
                messagebox.showinfo("congratulations", "Great,You Won the Game ..!")
                window.destroy()
            print(chances)
    elif answer=='ENOUGH':
        Label(window,text="Hint:",bg="lightsalmon",font=('Helvetica','21','bold')).place(relx=0.6,rely=0.1)
        Label(window,text="As much as required.",bg="lightsalmon",font=('Helvetica','20')).place(relx=0.65,rely=0.1)
        if alphabet in answer:
            if alphabet=="E":
                btn01["text"] = alphabet    
            elif alphabet=="N":
                btn02["text"] = alphabet;
            elif alphabet=="O":
                btn03["text"] = alphabet;
            elif alphabet=="U":
                btn04["text"] = alphabet;
            elif alphabet=="G":
                btn05["text"] = alphabet;
            if alphabet=="H":
                btn06["text"] = alphabet
            
        else:
            chances = chances - 1;
            txt="Chances remaining: "+str(chances);
            label1.configure(text=txt)
            image = Image.open(image_paths[chances])
            image = image.resize((300, 300), Image.ANTIALIAS)
            imgnew = ImageTk.PhotoImage(image)
            panel.configure(image=imgnew)
            panel.image = imgnew
            if chances<=0:
                messagebox.showinfo("Loose to guess","Hanged!!")
                window.destroy()
            if btn01["text"]=="E" and btn02["text"]=="N" and btn03["text"]=="O" and btn04["text"]=="U" and btn05["text"]=="G" and btn06["text"]=="H":
                messagebox.showinfo("congratulations", "Great,You Won the Game ..!")
                window.destroy()
            print(chances)      
            

#Building Entry Blocks
btn01 = Button(window, text=" ",bg="white", fg="Black",width=2,height=1,font=('Helvetica','20'))
btn01.place(relx="0.25",rely="0.17")
btn02 = Button(window, text=" ",bg="white", fg="Black",width=2,height=1,font=('Helvetica','20'))
btn02.place(relx="0.31",rely="0.17")
btn03 = Button(window, text=" ",bg="white", fg="Black",width=2,height=1,font=('Helvetica','20'))
btn03.place(relx="0.37",rely="0.17")
btn04 = Button(window, text=" ",bg="white", fg="Black",width=2,height=1,font=('Helvetica','20'))
btn04.place(relx="0.43",rely="0.17")
btn05 = Button(window, text=" ",bg="white", fg="Black",width=2,height=1,font=('Helvetica','20'))
btn05.place(relx="0.49",rely="0.17")
btn06 = Button(window, text=" ",bg="white", fg="Black",width=2,height=1,font=('Helvetica','20'))
btn06.place(relx="0.55",rely="0.17")

#Building Keyboard

btn1 = Button(window, text="A",bg="skyBlue", fg="Black",width=3,height=1,font=('Helvetica','20'),command=lambda: clicked("A"))
btn1.place(relx=0.20,rely=0.38)
btn2 = Button(window, text="R",bg="skyBlue", fg="Black",width=3,height=1,font=('Helvetica','20'),command=lambda: clicked("R"))
btn2.place(relx=0.33,rely=0.30)
btn3 = Button(window, text="B",bg="skyBlue", fg="Black",width=3,height=1,font=('Helvetica','20'),command=lambda: clicked("B"))
btn3.place(relx=0.46,rely=0.46)
btn4 = Button(window, text="Z",bg="skyBlue", fg="Black",width=3,height=1,font=('Helvetica','20'),command=lambda: clicked("Z"))
btn4.place(relx=0.26,rely=0.46)
btn5 = Button(window, text="T",bg="skyBlue", fg="Black",width=3,height=1,font=('Helvetica','20'),command=lambda: clicked("T"))
btn5.place(relx=0.38,rely=0.30)
btn6 = Button(window, text="I",bg="skyBlue", fg="Black",width=3,height=1,font=('Helvetica','20'),command=lambda: clicked("I"))
btn6.place(relx=0.53,rely=0.30)
btn7 = Button(window, text="C",bg="skyBlue", fg="Black",width=3,height=1,font=('Helvetica','20'),command=lambda: clicked("C"))
btn7.place(relx=0.36,rely=0.46)
btn8 = Button(window, text="X",bg="skyBlue", fg="Black",width=3,height=1,font=('Helvetica','20'),command=lambda: clicked("X"))
btn8.place(relx=0.31,rely=0.46)

btn9 = Button(window, text="O",bg="skyBlue", fg="Black",width=3,height=1,font=('Helvetica','20'),command=lambda: clicked("O"))
btn9.place(relx=0.58,rely=0.30)
btn10 = Button(window, text="Y",bg="skyBlue", fg="Black",width=3,height=1,font=('Helvetica','20'),command=lambda: clicked("Y"))
btn10.place(relx=0.43,rely=0.30)
btn11= Button(window, text="P",bg="skyBlue", fg="Black",width=3,height=1,font=('Helvetica','20'),command=lambda: clicked("P"))
btn11.place(relx=0.63,rely=0.30)
btn12 = Button(window, text="N",bg="skyBlue", fg="Black",width=3,height=1,font=('Helvetica','20'),command=lambda: clicked("N"))
btn12.place(relx=0.51,rely=0.46)
btn13 = Button(window, text="D",bg="skyBlue", fg="Black",width=3,height=1,font=('Helvetica','20'),command=lambda: clicked("D"))
btn13.place(relx=0.30,rely=0.38)
btn14 = Button(window, text="W",bg="skyBlue", fg="Black",width=3,height=1,font=('Helvetica','20'),command=lambda: clicked("W"))
btn14.place(relx=0.23,rely=0.30)

btn15= Button(window, text="V",bg="skyBlue", fg="Black",width=3,height=1,font=('Helvetica','20'),command=lambda: clicked("V"))
btn15.place(relx=0.41,rely=0.46)
btn16 = Button(window, text="S",bg="skyBlue", fg="Black",width=3,height=1,font=('Helvetica','20'),command=lambda: clicked("S"))
btn16.place(relx=0.25,rely=0.38)
btn17 = Button(window, text="L",bg="skyBlue", fg="Black",width=3,height=1,font=('Helvetica','20'),command=lambda: clicked("L"))
btn17.place(relx=0.60,rely=0.38)
btn18 = Button(window, text="U",bg="skyBlue", fg="Black",width=3,height=1,font=('Helvetica','20'),command=lambda: clicked("U"))
btn18.place(relx=0.48,rely=0.30)

btn19 = Button(window, text="M",bg="skyBlue", fg="Black",width=3,height=1,font=('Helvetica','20'),command=lambda: clicked("M"))
btn19.place(relx=0.56,rely=0.46)
btn20 = Button(window, text="E",bg="skyBlue", fg="Black",width=3,height=1,font=('Helvetica','20'),command=lambda: clicked("E"))
btn20.place(relx=0.28,rely=0.30)

btn21 = Button(window, text="F",bg="skyBlue", fg="Black",width=3,height=1,font=('Helvetica','20'),command=lambda: clicked("F"))
btn21.place(relx=0.35,rely=0.38)
btn22 = Button(window, text="G",bg="skyBlue", fg="Black",width=3,height=1,font=('Helvetica','20'),command=lambda: clicked("G"))
btn22.place(relx=0.40,rely=0.38)
btn23 = Button(window, text="H",bg="skyBlue", fg="Black",width=3,height=1,font=('Helvetica','20'),command=lambda: clicked("H"))
btn23.place(relx=0.45,rely=0.38)
btn24 = Button(window, text="J",bg="skyBlue", fg="Black",width=3,height=1,font=('Helvetica','20'),command=lambda: clicked("J"))
btn24.place(relx=0.50,rely=0.38)
btn25 = Button(window, text="K",bg="skyBlue", fg="Black",width=3,height=1,font=('Helvetica','20'),command=lambda: clicked("K"))
btn25.place(relx=0.55,rely=0.38)
 
btn26 = Button(window, text="Q",bg="skyBlue", fg="Black",width=3,height=1,font=('Helvetica','20'),command=lambda: clicked("Q"))
btn26.place(relx=0.18,rely=0.30)



label2=Label(window,font=('Helvetica','35'),bg="lightsalmon",text="HANGMAN GAME").place(relx=0.36,rely=0)


label1=Label(window,font=('Helvetica','35'),bg="lightsalmon",text="Total Chances are : 4")
label1.place(relx=0.0,rely=0.7)
window.mainloop()
